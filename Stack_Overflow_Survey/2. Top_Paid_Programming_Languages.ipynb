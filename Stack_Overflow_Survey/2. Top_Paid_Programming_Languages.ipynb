{
 "cells": [
  {
   "cell_type": "code",
   "execution_count": 1,
   "metadata": {
    "ExecuteTime": {
     "end_time": "2019-10-17T17:41:02.123562Z",
     "start_time": "2019-10-17T17:41:00.817147Z"
    }
   },
   "outputs": [],
   "source": [
    "# Import required libraries\n",
    "import pandas as pd\n",
    "import numpy as np\n",
    "import os\n",
    "from matplotlib import pyplot as plt\n",
    "import seaborn\n",
    "import collections\n",
    "import math\n",
    "import statistics\n",
    "\n",
    "#Set parameters\n",
    "%matplotlib inline\n",
    "pd.options.display.max_rows = 30"
   ]
  },
  {
   "cell_type": "code",
   "execution_count": 14,
   "metadata": {
    "ExecuteTime": {
     "end_time": "2019-10-17T17:42:13.309746Z",
     "start_time": "2019-10-17T17:42:10.199223Z"
    }
   },
   "outputs": [],
   "source": [
    "# Load data from csv file\n",
    "file_path = os.path.join(os.pardir, 'data', 'raw','survey_results_public.csv')\n",
    "df = pd.read_csv(file_path)"
   ]
  },
  {
   "cell_type": "code",
   "execution_count": 15,
   "metadata": {
    "ExecuteTime": {
     "end_time": "2019-10-17T17:42:13.337750Z",
     "start_time": "2019-10-17T17:42:13.313745Z"
    }
   },
   "outputs": [
    {
     "name": "stdout",
     "output_type": "stream",
     "text": [
      "Number of null values in Main Branch column: 552\n",
      "Number of null values in b ConvertedComp column: 33060\n"
     ]
    }
   ],
   "source": [
    "# Count of Null values in LanguageWorkedWith and LanguageDesireNextYear columns\n",
    "print(f'Number of null values in Main Branch column: {np.sum(df.MainBranch.isnull() == True)}')\n",
    "print(f'Number of null values in b ConvertedComp column: {np.sum(df.ConvertedComp.isnull() == True)}')"
   ]
  },
  {
   "cell_type": "code",
   "execution_count": 16,
   "metadata": {
    "ExecuteTime": {
     "end_time": "2019-10-17T17:42:13.437743Z",
     "start_time": "2019-10-17T17:42:13.340749Z"
    }
   },
   "outputs": [],
   "source": [
    "# Drop rows with null ConvertedComp value\n",
    "df.dropna(axis=0, subset=['ConvertedComp'], inplace=True)"
   ]
  },
  {
   "cell_type": "code",
   "execution_count": 17,
   "metadata": {
    "ExecuteTime": {
     "end_time": "2019-10-17T17:42:14.495772Z",
     "start_time": "2019-10-17T17:42:14.151754Z"
    }
   },
   "outputs": [],
   "source": [
    "df.fillna(value='Not Available', inplace=True)"
   ]
  },
  {
   "cell_type": "code",
   "execution_count": 18,
   "metadata": {
    "ExecuteTime": {
     "end_time": "2019-10-17T17:42:14.920728Z",
     "start_time": "2019-10-17T17:42:14.875734Z"
    }
   },
   "outputs": [],
   "source": [
    "# US respondents\n",
    "df_us = df.loc[df.Country == 'United States']"
   ]
  },
  {
   "cell_type": "code",
   "execution_count": 19,
   "metadata": {
    "ExecuteTime": {
     "end_time": "2019-10-17T17:42:15.670584Z",
     "start_time": "2019-10-17T17:42:15.592037Z"
    }
   },
   "outputs": [],
   "source": [
    "# NON US respondents\n",
    "df_non_us = df.loc[df.Country != 'United States']"
   ]
  },
  {
   "cell_type": "markdown",
   "metadata": {},
   "source": [
    "## 1. Top paid programming languages "
   ]
  },
  {
   "cell_type": "code",
   "execution_count": 20,
   "metadata": {
    "ExecuteTime": {
     "end_time": "2019-10-17T17:42:18.387727Z",
     "start_time": "2019-10-17T17:42:18.179655Z"
    }
   },
   "outputs": [],
   "source": [
    "# Retrieve all languages in dataset\n",
    "all_langs = {}\n",
    "for row in df.LanguageWorkedWith:\n",
    "    langs = row.split(';')\n",
    "    for lang in langs:\n",
    "        all_langs.setdefault(lang, int())\n",
    "        all_langs[lang] += 1"
   ]
  },
  {
   "cell_type": "code",
   "execution_count": 21,
   "metadata": {
    "ExecuteTime": {
     "end_time": "2019-10-17T17:42:18.871727Z",
     "start_time": "2019-10-17T17:42:18.807735Z"
    }
   },
   "outputs": [],
   "source": [
    "# Store salary for each language in list\n",
    "sal_us = {}\n",
    "for langs,sal in zip(df_us.LanguageWorkedWith, df_us.ConvertedComp):\n",
    "    for lang in str(langs).split(';'):\n",
    "        sal_us.setdefault(lang, [])\n",
    "        sal_us[lang].append(sal)"
   ]
  },
  {
   "cell_type": "code",
   "execution_count": 22,
   "metadata": {
    "ExecuteTime": {
     "end_time": "2019-10-17T17:42:19.844234Z",
     "start_time": "2019-10-17T17:42:19.333733Z"
    }
   },
   "outputs": [],
   "source": [
    "# Store salary for each language in list\n",
    "sal_non_us = {}\n",
    "for langs,sal in zip(df_non_us.LanguageWorkedWith, df_non_us.ConvertedComp):\n",
    "    for lang in str(langs).split(';'):\n",
    "        sal_non_us.setdefault(lang, [])\n",
    "        sal_non_us[lang].append(sal)"
   ]
  },
  {
   "cell_type": "code",
   "execution_count": 23,
   "metadata": {
    "ExecuteTime": {
     "end_time": "2019-10-17T17:42:19.909235Z",
     "start_time": "2019-10-17T17:42:19.847236Z"
    }
   },
   "outputs": [],
   "source": [
    "# Dataframe for storing salary info for language in USA and outside USA\n",
    "lang_salary = pd.DataFrame(index=all_langs.keys(), columns=['USA', 'NON-USA'], dtype='float')"
   ]
  },
  {
   "cell_type": "code",
   "execution_count": 24,
   "metadata": {
    "ExecuteTime": {
     "end_time": "2019-10-17T17:42:20.475232Z",
     "start_time": "2019-10-17T17:42:20.439233Z"
    }
   },
   "outputs": [],
   "source": [
    "# Store median salary in dataframe\n",
    "for lang, sal in sal_us.items():\n",
    "    lang_salary.at[lang, 'USA'] = statistics.median(sal)"
   ]
  },
  {
   "cell_type": "code",
   "execution_count": 25,
   "metadata": {
    "ExecuteTime": {
     "end_time": "2019-10-17T17:42:21.343746Z",
     "start_time": "2019-10-17T17:42:21.251749Z"
    }
   },
   "outputs": [],
   "source": [
    "# Store median salary in dataframe\n",
    "for lang, sal in sal_non_us.items():\n",
    "    lang_salary.at[lang, 'NON-USA'] = statistics.median(sal)"
   ]
  },
  {
   "cell_type": "code",
   "execution_count": 26,
   "metadata": {
    "ExecuteTime": {
     "end_time": "2019-10-17T17:42:22.304230Z",
     "start_time": "2019-10-17T17:42:21.942237Z"
    }
   },
   "outputs": [
    {
     "data": {
      "image/png": "[encoded data removed]",
      "text/plain": [
       "<Figure size 504x504 with 1 Axes>"
      ]
     },
     "metadata": {
      "needs_background": "light"
     },
     "output_type": "display_data"
    }
   ],
   "source": [
    "# Plot for USA respondents\n",
    "fig = lang_salary.nlargest(10, 'USA').USA.plot(kind='barh', figsize=(7,7), color='steelblue');\n",
    "fig.invert_yaxis()\n",
    "plt.title('Top Paid Languages in USA');\n",
    "plt.ylabel('Language');\n",
    "plt.xlabel('Salary');"
   ]
  },
  {
   "cell_type": "code",
   "execution_count": 27,
   "metadata": {
    "ExecuteTime": {
     "end_time": "2019-10-17T17:42:22.909250Z",
     "start_time": "2019-10-17T17:42:22.500230Z"
    }
   },
   "outputs": [
    {
     "data": {
      "image/png": "[encoded data removed]",
      "text/plain": [
       "<Figure size 504x504 with 1 Axes>"
      ]
     },
     "metadata": {
      "needs_background": "light"
     },
     "output_type": "display_data"
    }
   ],
   "source": [
    "# Plot for Outside USA respondents\n",
    "fig = lang_salary.nlargest(10, 'NON-USA')['NON-USA'].plot(kind='barh', figsize=(7,7), color='steelblue');\n",
    "fig.invert_yaxis()\n",
    "plt.title('Top Paid Languages Outside USA');\n",
    "plt.ylabel('Language');\n",
    "plt.xlabel('Salary');"
   ]
  },
  {
   "cell_type": "code",
   "execution_count": null,
   "metadata": {},
   "outputs": [],
   "source": []
  },
  {
   "cell_type": "code",
   "execution_count": null,
   "metadata": {},
   "outputs": [],
   "source": []
  }
 ],
 "metadata": {
  "kernelspec": {
   "display_name": "Python 3",
   "language": "python",
   "name": "python3"
  },
  "language_info": {
   "codemirror_mode": {
    "name": "ipython",
    "version": 3
   },
   "file_extension": ".py",
   "mimetype": "text/x-python",
   "name": "python",
   "nbconvert_exporter": "python",
   "pygments_lexer": "ipython3",
   "version": "3.6.9"
  }
 },
 "nbformat": 4,
 "nbformat_minor": 2
}
