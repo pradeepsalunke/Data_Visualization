{
 "cells": [
  {
   "cell_type": "code",
   "execution_count": 1,
   "metadata": {
    "ExecuteTime": {
     "end_time": "2020-02-25T01:44:57.371406Z",
     "start_time": "2020-02-25T01:44:55.161390Z"
    }
   },
   "outputs": [],
   "source": [
    "# Import required libraries\n",
    "import pandas as pd\n",
    "import numpy as np\n",
    "import os\n",
    "from matplotlib import pyplot as plt\n",
    "import seaborn\n",
    "import collections\n",
    "\n",
    "#Set parameters\n",
    "%matplotlib inline\n",
    "pd.options.display.max_rows = 30"
   ]
  },
  {
   "cell_type": "code",
   "execution_count": 2,
   "metadata": {
    "ExecuteTime": {
     "end_time": "2020-02-25T01:45:16.395045Z",
     "start_time": "2020-02-25T01:45:14.392261Z"
    }
   },
   "outputs": [],
   "source": [
    "# Load data from csv file\n",
    "df = pd.read_csv('/Users/pradeepipol/Music/PROJECTS/developer_survey_2019/survey_results_public.csv', low_memory=False)\n"
   ]
  },
  {
   "cell_type": "code",
   "execution_count": 3,
   "metadata": {
    "ExecuteTime": {
     "end_time": "2020-02-25T01:45:16.400582Z",
     "start_time": "2020-02-25T01:45:16.397047Z"
    }
   },
   "outputs": [
    {
     "name": "stdout",
     "output_type": "stream",
     "text": [
      "Total number of respondents: 88883\n"
     ]
    }
   ],
   "source": [
    "## Total number of respondents\n",
    "print(f'Total number of respondents: {df.shape[0]}')"
   ]
  },
  {
   "cell_type": "code",
   "execution_count": 4,
   "metadata": {
    "ExecuteTime": {
     "end_time": "2020-02-25T01:45:17.673089Z",
     "start_time": "2020-02-25T01:45:17.587589Z"
    }
   },
   "outputs": [],
   "source": [
    "df.dropna(axis=0, subset=['MainBranch'], inplace=True)"
   ]
  },
  {
   "cell_type": "markdown",
   "metadata": {},
   "source": [
    "## 1. Top 10 loved/dreaded/wanted languages"
   ]
  },
  {
   "cell_type": "code",
   "execution_count": 5,
   "metadata": {
    "ExecuteTime": {
     "end_time": "2019-10-17T17:23:46.951012Z",
     "start_time": "2019-10-17T17:23:46.909009Z"
    }
   },
   "outputs": [
    {
     "name": "stdout",
     "output_type": "stream",
     "text": [
      "Number of null values in Main Branch column: 0\n",
      "Number of null values in both LanguageWorkedWith and LanguageDesireNextYear columns: 516\n",
      "Number of null values in LanguageWorkedWith column: 1110\n",
      "Number of null values in LanguageDesireNextYear column: 4583\n"
     ]
    }
   ],
   "source": [
    "# Count of Null values in LanguageWorkedWith and LanguageDesireNextYear columns\n",
    "print(f'Number of null values in Main Branch column: {np.sum(df.MainBranch.isnull() == True)}')\n",
    "print(f'Number of null values in both LanguageWorkedWith and LanguageDesireNextYear columns: {np.sum((df.LanguageWorkedWith.isnull() == True) & (df.LanguageDesireNextYear.isnull() == True))}')\n",
    "print(f'Number of null values in LanguageWorkedWith column: {np.sum(df.LanguageWorkedWith.isnull() == True)}')\n",
    "print(f'Number of null values in LanguageDesireNextYear column: {np.sum(df.LanguageDesireNextYear.isnull() == True)}')"
   ]
  },
  {
   "cell_type": "code",
   "execution_count": 6,
   "metadata": {
    "ExecuteTime": {
     "end_time": "2019-10-17T17:40:07.803701Z",
     "start_time": "2019-10-17T17:40:07.164713Z"
    }
   },
   "outputs": [],
   "source": [
    "# Filling the null columns with Not Available value\n",
    "df.fillna(value='Not Available', inplace=True)"
   ]
  },
  {
   "cell_type": "code",
   "execution_count": 7,
   "metadata": {
    "ExecuteTime": {
     "end_time": "2019-10-17T17:40:07.810704Z",
     "start_time": "2019-10-17T17:40:07.806705Z"
    }
   },
   "outputs": [],
   "source": [
    "# Initialize loved, dreaded, wanted dictionary\n",
    "loved_lang = {}\n",
    "dreaded_lang = {}\n",
    "wanted_lang = {}"
   ]
  },
  {
   "cell_type": "code",
   "execution_count": 8,
   "metadata": {
    "ExecuteTime": {
     "end_time": "2019-10-17T17:40:08.487696Z",
     "start_time": "2019-10-17T17:40:08.483696Z"
    }
   },
   "outputs": [],
   "source": [
    "# Split string by ;\n",
    "def split_string(string):\n",
    "    '''Split the string with semi-colon(;) and return the list of words'''\n",
    "    words = string.split(';')\n",
    "    return words"
   ]
  },
  {
   "cell_type": "code",
   "execution_count": 9,
   "metadata": {
    "ExecuteTime": {
     "end_time": "2019-10-17T17:40:09.094691Z",
     "start_time": "2019-10-17T17:40:09.089685Z"
    },
    "code_folding": []
   },
   "outputs": [],
   "source": [
    "def lang_dict(lang_list, dictionary):\n",
    "    '''Stores languages in dictionary'''\n",
    "    for lang in lang_list:\n",
    "        dictionary.setdefault(lang, int())\n",
    "        dictionary[lang] = dictionary[lang] + 1"
   ]
  },
  {
   "cell_type": "code",
   "execution_count": 10,
   "metadata": {
    "ExecuteTime": {
     "end_time": "2019-10-17T17:40:09.564739Z",
     "start_time": "2019-10-17T17:40:09.559742Z"
    }
   },
   "outputs": [],
   "source": [
    "def sort_dictionary(dictionary):\n",
    "    '''Sorts the dictionary and returns sorted dict'''\n",
    "    sorted_x = sorted(dictionary.items(), key=lambda kv: kv[1], reverse=True)\n",
    "    sorted_dict = collections.OrderedDict(sorted_x)\n",
    "    return sorted_dict "
   ]
  },
  {
   "cell_type": "code",
   "execution_count": 11,
   "metadata": {
    "ExecuteTime": {
     "end_time": "2019-10-17T17:40:10.033742Z",
     "start_time": "2019-10-17T17:40:10.023734Z"
    },
    "run_control": {
     "marked": false
    }
   },
   "outputs": [],
   "source": [
    "def identify_languages(lang_worked, lang_desired):\n",
    "    '''\n",
    "    Idenitifies loved, dreaded and wanted languages from lang_worked and lang_desired lists.\n",
    "    \n",
    "    Languages which are available in both langs_worked and langs_desired are Loved languages.\n",
    "    \n",
    "    Languages which are available in working column but not in desired columns are dreaded languages.\n",
    "    \n",
    "    Languages which are available in desired column but not in desire column but not in working column.\n",
    "    are wanted languages\n",
    "    \n",
    "    '''\n",
    "    loved_lang = {}\n",
    "    dreaded_lang = {}\n",
    "    wanted_lang = {}\n",
    "    all_lang = {}\n",
    "    for worked, desired in zip(lang_worked, lang_desired):\n",
    "        # Store the languages in set\n",
    "        langs_worked = set(split_string(worked))\n",
    "        langs_desired = set(split_string(desired))\n",
    "             \n",
    "        intersection = langs_worked.intersection(langs_desired)\n",
    "        dreaded_diff = langs_worked.difference(langs_desired)\n",
    "        wanted_diff = langs_desired.difference(langs_worked)\n",
    "        \n",
    "        # Store the languages in respective dictionaries\n",
    "        lang_dict(langs_worked, all_lang)\n",
    "        lang_dict(intersection, loved_lang)    \n",
    "        lang_dict(dreaded_diff, dreaded_lang)\n",
    "        lang_dict(wanted_diff, wanted_lang)\n",
    "    return all_lang,loved_lang, dreaded_lang, wanted_lang"
   ]
  },
  {
   "cell_type": "code",
   "execution_count": 12,
   "metadata": {
    "ExecuteTime": {
     "end_time": "2019-10-17T17:40:11.413741Z",
     "start_time": "2019-10-17T17:40:10.548195Z"
    }
   },
   "outputs": [],
   "source": [
    "#Retrive all languages, loved languages, wanted languages and dreaded languages\n",
    "all_lang,loved_lang,dreaded_lang,wanted_lang = identify_languages(df.LanguageWorkedWith, df.LanguageDesireNextYear)"
   ]
  },
  {
   "cell_type": "code",
   "execution_count": 13,
   "metadata": {
    "ExecuteTime": {
     "end_time": "2019-10-17T17:40:11.435752Z",
     "start_time": "2019-10-17T17:40:11.416690Z"
    }
   },
   "outputs": [],
   "source": [
    "lang_info = pd.DataFrame(index=all_lang.keys(), columns=['Loved', 'Dreaded', 'Wanted'], dtype=float)"
   ]
  },
  {
   "cell_type": "code",
   "execution_count": 14,
   "metadata": {
    "ExecuteTime": {
     "end_time": "2019-10-17T17:40:11.595807Z",
     "start_time": "2019-10-17T17:40:11.587831Z"
    }
   },
   "outputs": [],
   "source": [
    "# Percentage of developers who are currently working in language also interested in working with in next year\n",
    "for lang, count in loved_lang.items():\n",
    "    temp = all_lang[lang]\n",
    "    percentage = (count/temp)*100\n",
    "    lang_info.at[lang, 'Loved'] = percentage"
   ]
  },
  {
   "cell_type": "code",
   "execution_count": 15,
   "metadata": {
    "ExecuteTime": {
     "end_time": "2019-10-17T17:40:12.152824Z",
     "start_time": "2019-10-17T17:40:12.147823Z"
    }
   },
   "outputs": [],
   "source": [
    "# Percentage of developers who are currenlty working in language is\n",
    "# not interested in working with it next year\n",
    "for lang, count in dreaded_lang.items():\n",
    "    temp = all_lang[lang]\n",
    "    percent = (count/temp)*100\n",
    "    lang_info.at[lang, 'Dreaded'] = percent"
   ]
  },
  {
   "cell_type": "code",
   "execution_count": 16,
   "metadata": {
    "ExecuteTime": {
     "end_time": "2019-10-17T17:40:12.777815Z",
     "start_time": "2019-10-17T17:40:12.771818Z"
    }
   },
   "outputs": [],
   "source": [
    "# Percentage of developers who are currently are not working in language \n",
    "# interested in working with it next year\n",
    "developers = df.shape[0]\n",
    "for lang, count in wanted_lang.items():\n",
    "    temp = developers - all_lang[lang]   \n",
    "    percent = (count/temp)*100\n",
    "    lang_info.at[lang, 'Wanted'] = percent"
   ]
  },
  {
   "cell_type": "code",
   "execution_count": 29,
   "metadata": {
    "ExecuteTime": {
     "end_time": "2019-10-17T17:40:13.732802Z",
     "start_time": "2019-10-17T17:40:13.398805Z"
    }
   },
   "outputs": [
    {
     "data": {
      "image/png": "[encoded data removed]",
      "text/plain": [
       "<Figure size 1008x720 with 1 Axes>"
      ]
     },
     "metadata": {
      "needs_background": "light"
     },
     "output_type": "display_data"
    }
   ],
   "source": [
    "fig = lang_info.nlargest(10, 'Wanted').Wanted.plot(kind='barh', figsize=(14,10), color='steelblue');\n",
    "fig.invert_yaxis()\n",
    "plt.title('Most Wanted Languages');\n",
    "plt.ylabel('Language');\n",
    "plt.xlabel('Percentage');"
   ]
  },
  {
   "cell_type": "code",
   "execution_count": 30,
   "metadata": {
    "ExecuteTime": {
     "end_time": "2019-10-17T17:40:14.532791Z",
     "start_time": "2019-10-17T17:40:14.277798Z"
    }
   },
   "outputs": [
    {
     "data": {
      "image/png": "[encoded data removed]",
      "text/plain": [
       "<Figure size 1008x720 with 1 Axes>"
      ]
     },
     "metadata": {
      "needs_background": "light"
     },
     "output_type": "display_data"
    }
   ],
   "source": [
    "fig = lang_info.nlargest(10, 'Dreaded').Dreaded.plot(kind='barh', figsize=(14,10), color='steelblue');\n",
    "fig.invert_yaxis()\n",
    "plt.title('Top Dreaded Languages');\n",
    "plt.ylabel('Language');\n",
    "plt.xlabel('Percentage');"
   ]
  },
  {
   "cell_type": "code",
   "execution_count": null,
   "metadata": {
    "ExecuteTime": {
     "end_time": "2019-10-17T17:40:16.088771Z",
     "start_time": "2019-10-17T17:40:15.861778Z"
    }
   },
   "outputs": [],
   "source": [
    "\n"
   ]
  },
  {
   "cell_type": "code",
   "execution_count": null,
   "metadata": {},
   "outputs": [],
   "source": []
  }
 ],
 "metadata": {
  "kernelspec": {
   "display_name": "Python 3",
   "language": "python",
   "name": "python3"
  },
  "language_info": {
   "codemirror_mode": {
    "name": "ipython",
    "version": 3
   },
   "file_extension": ".py",
   "mimetype": "text/x-python",
   "name": "python",
   "nbconvert_exporter": "python",
   "pygments_lexer": "ipython3",
   "version": "3.7.4"
  }
 },
 "nbformat": 4,
 "nbformat_minor": 2
}
